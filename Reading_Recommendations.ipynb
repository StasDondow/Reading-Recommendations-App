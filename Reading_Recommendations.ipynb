{
 "cells": [
  {
   "cell_type": "markdown",
   "id": "6d86e944",
   "metadata": {},
   "source": [
    "# Search system for contextually close texts"
   ]
  },
  {
   "cell_type": "code",
   "execution_count": 1,
   "id": "cf0c5273",
   "metadata": {},
   "outputs": [],
   "source": [
    "from PyPDF2 import PdfReader\n",
    "\n",
    "import pandas as pd\n",
    "import numpy as np\n",
    "import random\n",
    "\n",
    "import nltk\n",
    "from nltk.tokenize import word_tokenize\n",
    "from nltk.corpus import stopwords\n",
    "from sklearn.feature_extraction.text import CountVectorizer, TfidfVectorizer\n",
    "from sklearn.metrics.pairwise import euclidean_distances\n",
    "import re"
   ]
  },
  {
   "cell_type": "markdown",
   "id": "16201384",
   "metadata": {},
   "source": [
    "#### Download books of various genres from open sources, create a dataset"
   ]
  },
  {
   "cell_type": "code",
   "execution_count": 2,
   "id": "02037993",
   "metadata": {},
   "outputs": [
    {
     "name": "stdout",
     "output_type": "stream",
     "text": [
      "Wiley also publishes its books in a variety of electronic\n",
      "formats. Some content that appears in print may not be\n",
      "available in electronic books.\n",
      "Designations used by companies to distinguish their products\n",
      "are often claimed as trademarks. All brand names and product\n",
      "names used in this book are trade names, service marks,\n",
      "trademarks or registered trademarks of their respective owners.\n",
      "The publisher is not associated with any product or vendor\n",
      "mentioned in this book. This publication is designed to provide\n",
      "accurate and authoritative information in regard to the subject\n",
      "matter covered. It is sold on the understanding that the\n",
      "publisher is not engaged in rendering professional services. If\n",
      "professional advice or other expert assistance is required, the\n",
      "services of a competent professional should be sought.\n",
      "Library of Congress Cataloging-in-Publication Data\n",
      "Carr, Philip, 1953–\n",
      "English phonetics and phonology : an introduction / Philip Carr.\n",
      "— Second edition.\n",
      "pages cm\n",
      "Includes bibliographical references and index.\n",
      "ISBN 978-1-4051-3454-5\n",
      "1. English language—Phonology. 2. English language—\n",
      "Phonetics.\n",
      "PE1133.C34 2013\n",
      "421′.5—dc23\n",
      "2012005351\n",
      "A catalogue record for this book is available from the British\n",
      "Library.\n",
      "Cover image: Patrick Henry Bruce, \n",
      "Peinture/Nature Morte\n",
      ", c.\n",
      "11\n"
     ]
    }
   ],
   "source": [
    "reader = PdfReader(\"books/English-Phonetics-and-Phonology.-An-Introduction-PDFDrive-.pdf\")\n",
    "  \n",
    "# getting a specific page from the pdf file\n",
    "page = reader.pages[10]\n",
    "  \n",
    "# extracting text from page\n",
    "text = page.extract_text()\n",
    "print(text)"
   ]
  },
  {
   "cell_type": "code",
   "execution_count": 3,
   "id": "e56a0324",
   "metadata": {},
   "outputs": [],
   "source": [
    "books_path = \"books/\"\n",
    "\n",
    "data = {\n",
    "    \"genre\": [\n",
    "        \"Non-fiction\",\n",
    "        \"Non-fiction\",\n",
    "        \"Fantasy\",\n",
    "        \"Novel\",\n",
    "        \"Novel\",\n",
    "        \"Non-fiction\",\n",
    "        \"Non-fiction\",\n",
    "        \"Novel\",\n",
    "        \"Adventure\",\n",
    "        \"Novel\",\n",
    "        \"Religion\",\n",
    "        \"Religion\",\n",
    "        \"Religion\",\n",
    "        \"Religion\",\n",
    "        \"Romance\",\n",
    "        \"Romance\",\n",
    "        \"Romance\",\n",
    "        \"Romance\",\n",
    "        \"Fiction\",\n",
    "        \"Fiction\",\n",
    "        \"Non-fiction\"\n",
    "    ],\n",
    "    \"description\": [\n",
    "        \"English Phonetics and Phonology is an excellent text for individuals who have no prior understanding of the topic as it is an introductory text that is straightforward to understand regarding the phonological structure of the English language.\\nThis leading textbook in the market teaches undergraduate students and those whose first language is not English the fundamentals of articulatory phonetics and phonology in an interesting and straightforward way.\",\n",
    "        \"The Second Edition of Lobsters: Biology, Management, Fisheries, and Aquaculture, which Bruce Phillips is editing, delivers exhaustive coverage of these fascinating creatures, stretching from growth and development to management and conservation. The book is being published under Lobsters: Biology, Management, Fisheries, and Aquaculture. Several chapters included in the First Edition and covered topics such as Growth, Reproduction, Diseases, Behaviour, Nutrition, Larval and Post-Larval Ecology, and Juvenile and Adult Ecology have been removed and replaced with new chapters.\",\n",
    "        \"Lissa Dragomir is a Moroi princess: a mortal vampire with a rare aptitude for channelling the earth’s magic. Strigoi are the deadliest vampires and must always be kept away from her. Lissa’s best friend, Rose Hathaway, is a dhampir due to the potent combination of human and vampire blood that courses through her veins. Rose has devoted her life to the perilous mission of shielding Lissa from the Strigoi, who are intent on assimilating her into their kind.\",\n",
    "        \"Toni was adamant in her protest, and it persisted. I have no idea what type of a person you think I am or what you believe you have the power to do to me. You are not going to be successful in keeping me here!\",\n",
    "        \"Ruthless. Meticulous. Arrogant. \\nControl is essential to Dante Russo’s happiness, both in his personal and professional life. \\nThe prospect of blackmail compels the rich CEO to enter into an engagement with a woman he knows very little about, despite the fact that he had no intention of ever getting married.\",\n",
    "        \"The book Digital Marketing: Strategy, Implementation, and Practice, which is now in its sixth edition, gives thorough and useful advice to businesses on how they can fulfill their marketing objectives by making the most of the opportunities presented by digital media and technology. \\nStudents will gain a better understanding of how digital marketing functions in the real world by participating in case studies and interviews with representatives from forward-thinking companies like eBay and Facebook, which are covered in the course Digital Marketing, which brings together the theory and practice of marketing with actual business experience.\",\n",
    "        \"More than 15 million copies of How to Win Friends and Influence People have been sold since the book’s initial publication in 1936. The first book published by Dale Carnegie is an all-time best-seller packed with rock-solid wisdom that has helped thousands of people climb the ladder of success in their personal and professional lives. \\n The teachings of Dale Carnegie are timeless and will assist you in reaching your full potential in this complex and cutthroat era. They are as relevant today as they were when Carnegie first published them.\",\n",
    "        \"Lilli DeForrest has no idea what to anticipate when her longtime friend Caroline extends an invitation to visit Exotica for a week of being pampered and having fun there. But as soon as Rajan enters her suite, their attraction is powerful, immediate, and overpowering. \\nHe is the perfect lover for her in equal parts sensitive and commanding. However, Lilli is about to learn that Rajan’s deft touch is only the beginning of what he has in store for her.\",\n",
    "        \"The Aeneid (Oxford World’s Classics): The new translation that was done by Frederick Ahl accomplishes something that has never been accomplished before: it captures the enthusiasm, poetic vitality, and intellectual drive of the original.\",\n",
    "        \"Its all right, child, she consoled him. Now tell me who it is. When Aureliano told her, Pilar Ternera let out a deep laugh, the old expansive laugh that ended up as a cooing of doves.\\nThere was no mystery in the heart of a Buendía that was impenetrable for her because a century of cards and experience had taught her that the history of the family was a machine with unavoidable repetitions, a turning wheel that would have gone on spilling into eternity were it not for the progressive and irremediable wearing of the axle.\",\n",
    "        \"The book Secrets of the Secret Place by Bob Sorge has one goal: to stoke your fire to find the secret spot with God.\",\n",
    "        \"Heaven Is for Real describes the events that took place during Colton’s trip to the afterlife as well as his family’s struggle to come to terms with the fact that their son. Colton Burpo comes out of surgery that saved his life with astonishing stories of his visit to paradise, his family is at a loss for what to believe. He was 4-year-old when this happened.\",\n",
    "        \"guided by the example of Christ in the treatment of enemies; therefore they cannot be agreeable to the will of God, and therefore their overthrow by a spiritual regeneration of their subjects is inevitable.\\n“We regard as unchristian and unlawful not only all wars, whether offensive or defensive, but all preparations for war; every naval ship, every arsenal, every fortification, we regard as unchristian and unlawful; the existence of any kind of standing army, all military chieftains, all monuments commemorative of victory over a fallen foe, all trophies won in battle, all celebrations in honor of military exploits, all appropriations for defense by arms; we regard as unchristian and unlawful every edict of government requiring of its subjects military service.\",\n",
    "        \"Someone needs to speak the unadulterated truth about the Bible. It is not in the preachers’ best interest to do so because they fear being removed from their pulpits. College professors cannot risk doing so since doing so would result in a reduction in their income. Politicians dare not.\",\n",
    "        \"A conscious marriage is created by bringing into awareness the unconscious directives and purposes of a romantic or love marriage. Love marriage is defined as a voluntary union of two individuals based upon a romantic attraction that is stirred by unconscious needs that have their roots in unresolved childhood issues.\\nLove marriages have existed throughout history, but they have not been the dominant cultural form of marriage until the latter part of the nineteenth century, and then largely in the Western world.\",\n",
    "        \"…uty clung to her father in terror, which became all the greater when she saw how frightened he was. But when the Beast really appeared, though she trembled at the sight of him, she made a great effort to hide her horror, and saluted him respectfully.\\nThis evidently pleased the Beast. After looking at her he said, in a tone that might have struck terror into the boldest heart, though he did not seem to be angry:\\n“Good-evening, old man. Good-evening, Beauty.”\",\n",
    "        \"“An incredible tale of love and intrigue that is on par with, if not superior to, the other exciting tales that Mrs. Rinehart has written in terms of fascination.\\nThe book is one of the liveliest to be published this year, and it will contribute to the author’s growing reputation as a creator of unconventional storylines.” That would be the Philadelphia Record.\",\n",
    "        \"Dr. Gabe Allen is a man of his word when it comes to not dating his coworkers, but after meeting ER nurse Larissa Brockman, he is faced with the decision of whether or not to breach his promise.\\nGabe is drawn back to the church he had abandoned because of Larissa’s strong religious beliefs; yet, when their lives are in danger, he realizes that it is Larissa who has the most to gain from having a deeper understanding of what it means to forgive.\",\n",
    "        \"In this breathtaking ninth book of the Keeper of the Lost Cities series, which has been a bestseller both in the New York Times and in USA TODAY, Sophie and her friends learn the real meaning of power—and of evil.\\nThe game was altered because of Sophie Foster. Now she is forced to make a choice between two evils\",\n",
    "        \"Percy Jackson, who is only twelve years old, is currently on the most perilous journey of his life. Percy must travel around the United States with the assistance of a satyr and a daughter of Athena in order to apprehend a thief who has made off with the original weapon of mass destruction, which is Zeus’ master bolt.\",\n",
    "        \"Rich Dad Poor Dad is Robert Kiyosaki’s autobiography about his upbringing with two fathers — his biological father and the father of his best friend, whom he refers to as his “rich dad” — and the ways in which the perspectives of both fathers influenced Robert’s perspectives on financial matters and the stock market. This book debunks the notion that one must have a significant income in order to become wealthy. It also clarifies the distinction between working for money and allowing your money to work for you.\"\n",
    "    ],\n",
    "    \"filename\": [\n",
    "        \"English-Phonetics-and-Phonology.-An-Introduction-PDFDrive-.pdf\",\n",
    "        \"Lobsters_ Biology, Management, Aquaculture & Fisheries ( PDFDrive ).pdf\",\n",
    "        \"Vampire-Academy-Vampire-Academy-Book-1-PDFDrive-.pdf\",\n",
    "        \"Sweet-Revenge-PDFDrive-.pdf\",\n",
    "        \"King-of-Wrath-by-Ana-Huang.pdf\",\n",
    "        \"Digital Marketing_ Strategy, Implementation and practice ( PDFDrive ).pdf\",\n",
    "        \"How-To-Win-Friends-and-Influence-People-PDFDrive-1.pdf\",\n",
    "        \"Exotica-Seven-Days-of-Kama-Sutra-9-Days-of-Arabian-Nights-PDFDrive-.pdf\",\n",
    "        \"The-Aeneid-Oxford-Worlds-Classics-PDFDrive-.pdf\",\n",
    "        \"One-Hundred-Years-of-Solitude.pdf\",\n",
    "        \"Secrets-of-the-Secret-Place-Sorge.pdf\",\n",
    "        \"Heaven-is-for-Real-_-A-Little-Boys-Astounding-Story-of-His-Trip-to-Heaven-and-Back-PDFDrive-.pdf\",\n",
    "        \"The-Kingdom-of-God-Is-Within-You-1.pdf\",\n",
    "        \"About-the-Holy-Bible.pdf\",\n",
    "        \"Getting-The-Love-You-Want-PDF-Download-Free.pdf\",\n",
    "        \"Beauty-and-the-Beast-3.pdf\",\n",
    "        \"The-After-House.pdf\",\n",
    "        \"Healing-Her-Heart.pdf\",\n",
    "        \"Keeper-Of-The-Lost-Cities-PDFDrive-.pdf\",\n",
    "        \"THE-LIGHTNING-THIEF-Percy-Jackson-and-the-Olympians-Book-1-Rick-PDFDrive-.pdf\",\n",
    "        \"Rich Dad Poor Dad ( 13streamDrive ).pdf\"\n",
    "    ],\n",
    "    \"text\": []\n",
    "}"
   ]
  },
  {
   "cell_type": "code",
   "execution_count": 6,
   "id": "b267d525",
   "metadata": {
    "scrolled": false
   },
   "outputs": [
    {
     "name": "stdout",
     "output_type": "stream",
     "text": [
      "English-Phonetics-and-Phonology.-An-Introduction-PDFDrive-.pdf\n",
      "Lobsters_ Biology, Management, Aquaculture & Fisheries ( PDFDrive ).pdf\n",
      "Vampire-Academy-Vampire-Academy-Book-1-PDFDrive-.pdf\n",
      "Sweet-Revenge-PDFDrive-.pdf\n",
      "King-of-Wrath-by-Ana-Huang.pdf\n",
      "Digital Marketing_ Strategy, Implementation and practice ( PDFDrive ).pdf\n",
      "How-To-Win-Friends-and-Influence-People-PDFDrive-1.pdf\n",
      "Exotica-Seven-Days-of-Kama-Sutra-9-Days-of-Arabian-Nights-PDFDrive-.pdf\n",
      "The-Aeneid-Oxford-Worlds-Classics-PDFDrive-.pdf\n",
      "One-Hundred-Years-of-Solitude.pdf\n",
      "Secrets-of-the-Secret-Place-Sorge.pdf\n",
      "Heaven-is-for-Real-_-A-Little-Boys-Astounding-Story-of-His-Trip-to-Heaven-and-Back-PDFDrive-.pdf\n",
      "The-Kingdom-of-God-Is-Within-You-1.pdf\n",
      "About-the-Holy-Bible.pdf\n",
      "Getting-The-Love-You-Want-PDF-Download-Free.pdf\n",
      "Beauty-and-the-Beast-3.pdf\n",
      "The-After-House.pdf\n",
      "Healing-Her-Heart.pdf\n",
      "Keeper-Of-The-Lost-Cities-PDFDrive-.pdf\n",
      "THE-LIGHTNING-THIEF-Percy-Jackson-and-the-Olympians-Book-1-Rick-PDFDrive-.pdf\n",
      "Rich Dad Poor Dad ( 13streamDrive ).pdf\n"
     ]
    }
   ],
   "source": [
    "def extract_book_text(fpath):\n",
    "    reader = PdfReader(fpath)\n",
    "    text = \"\"\n",
    "    \n",
    "    for i in range(len(reader.pages)):\n",
    "        page = reader.pages[i]\n",
    "        page_text = page.extract_text()\n",
    "        try:\n",
    "            page_text.encode(\"utf-8\")   # some characters are not decoded to utf-8\n",
    "            text += page_text + \"\\n\"\n",
    "        except:\n",
    "            pass\n",
    "    return text\n",
    "\n",
    "\n",
    "for fname in data[\"filename\"]:\n",
    "    text = extract_book_text('books/' + fname)\n",
    "    data[\"text\"].append(text) \n",
    "    print(fname)"
   ]
  },
  {
   "cell_type": "code",
   "execution_count": 7,
   "id": "e6148a36",
   "metadata": {},
   "outputs": [
    {
     "data": {
      "text/plain": [
       "'\\nContents\\nSound Recordings\\nPrefaces to the First Edition\\nPreface to the Second Edition\\nAcknowledgements\\nFigure 1 The organs of speech\\nFigure 2 The International Phonetic\\nAlphabet\\n1 English Phonetics: Consonants (i)\\n1.1 Airstream and Articulation\\n1.2 Place of Articulation\\n1.3 Manner of Articulation Stops, Fricatives\\nand Approximants\\nNotes\\nExercises\\n2 English Phonetics: Consonants (ii)\\n2.1 Central vs Lateral\\n2.2 Taps and Trills\\n2.3 Secondary Articulation\\n2.4 Affricates\\n2.5 Aspiration\\n2.6 Nasal Stops\\nNotes\\nExercises\\n3 English Phonetics: Vowels (i)\\n3.1 The Primary Cardinal Vowels\\n3.2 RP and GA Short Vowels\\nExercises\\n4 English Phonetics: Vowels (ii)\\n4.1 RP and GA Long Vowels\\n4.2 RP and GA Diphthongs\\nNotes\\nExercises\\n5 The Phonemic Principle\\n5.1 Introduction Linguistic Knowledge\\n5.2 Contrast vs Predictability: The Phoneme\\n5.3 Phonemes, Allophones and Contexts\\n5.4 Summing Up\\nNotes\\nExercises\\n6 English Phonemes\\n6.1 English Consonant Phonemes\\n6.2 The Phonological Form of Morphemes\\n6.3 English Vow'"
      ]
     },
     "execution_count": 7,
     "metadata": {},
     "output_type": "execute_result"
    }
   ],
   "source": [
    "data[\"text\"][0][:1000]"
   ]
  },
  {
   "cell_type": "code",
   "execution_count": 10,
   "id": "036a1073",
   "metadata": {
    "scrolled": true
   },
   "outputs": [
    {
     "data": {
      "text/html": [
       "<div>\n",
       "<style scoped>\n",
       "    .dataframe tbody tr th:only-of-type {\n",
       "        vertical-align: middle;\n",
       "    }\n",
       "\n",
       "    .dataframe tbody tr th {\n",
       "        vertical-align: top;\n",
       "    }\n",
       "\n",
       "    .dataframe thead th {\n",
       "        text-align: right;\n",
       "    }\n",
       "</style>\n",
       "<table border=\"1\" class=\"dataframe\">\n",
       "  <thead>\n",
       "    <tr style=\"text-align: right;\">\n",
       "      <th></th>\n",
       "      <th>genre</th>\n",
       "      <th>description</th>\n",
       "      <th>filename</th>\n",
       "      <th>text</th>\n",
       "    </tr>\n",
       "  </thead>\n",
       "  <tbody>\n",
       "    <tr>\n",
       "      <th>0</th>\n",
       "      <td>Non-fiction</td>\n",
       "      <td>English Phonetics and Phonology is an excellen...</td>\n",
       "      <td>English-Phonetics-and-Phonology.-An-Introducti...</td>\n",
       "      <td>\\nContents\\nSound Recordings\\nPrefaces to the ...</td>\n",
       "    </tr>\n",
       "    <tr>\n",
       "      <th>1</th>\n",
       "      <td>Non-fiction</td>\n",
       "      <td>The Second Edition of Lobsters: Biology, Manag...</td>\n",
       "      <td>Lobsters_ Biology, Management, Aquaculture &amp; F...</td>\n",
       "      <td>LOBSTERS: BIOLOGY , \\nMANAGEMENT, AQUACULTURE ...</td>\n",
       "    </tr>\n",
       "    <tr>\n",
       "      <th>2</th>\n",
       "      <td>Fantasy</td>\n",
       "      <td>Lissa Dragomir is a Moroi princess: a mortal v...</td>\n",
       "      <td>Vampire-Academy-Vampire-Academy-Book-1-PDFDriv...</td>\n",
       "      <td>\\nTable\\tof\\tContents\\n\\t\\nTitle\\tPage\\nCopyri...</td>\n",
       "    </tr>\n",
       "    <tr>\n",
       "      <th>3</th>\n",
       "      <td>Novel</td>\n",
       "      <td>Toni was adamant in her protest, and it persis...</td>\n",
       "      <td>Sweet-Revenge-PDFDrive-.pdf</td>\n",
       "      <td>\\nSWEET\\tREVENGE\\n\\t\\nAnne\\tMather\\n\\t\\n\\t\\nTh...</td>\n",
       "    </tr>\n",
       "    <tr>\n",
       "      <th>4</th>\n",
       "      <td>Novel</td>\n",
       "      <td>Ruthless. Meticulous. Arrogant. \\nControl is e...</td>\n",
       "      <td>King-of-Wrath-by-Ana-Huang.pdf</td>\n",
       "      <td>\\nAna Huang  is a USA Today, Publishers Weekly...</td>\n",
       "    </tr>\n",
       "    <tr>\n",
       "      <th>5</th>\n",
       "      <td>Non-fiction</td>\n",
       "      <td>The book Digital Marketing: Strategy, Implemen...</td>\n",
       "      <td>Digital Marketing_ Strategy, Implementation an...</td>\n",
       "      <td>\\nDigital Marketing\\nA01_CHAF7611_06_SE_FM.ind...</td>\n",
       "    </tr>\n",
       "    <tr>\n",
       "      <th>6</th>\n",
       "      <td>Non-fiction</td>\n",
       "      <td>More than 15 million copies of How to Win Frie...</td>\n",
       "      <td>How-To-Win-Friends-and-Influence-People-PDFDri...</td>\n",
       "      <td>\\nCONTENTS\\nCover\\nAbout\\tthe\\tAuthor\\nAlso\\tb...</td>\n",
       "    </tr>\n",
       "    <tr>\n",
       "      <th>7</th>\n",
       "      <td>Novel</td>\n",
       "      <td>Lilli DeForrest has no idea what to anticipate...</td>\n",
       "      <td>Exotica-Seven-Days-of-Kama-Sutra-9-Days-of-Ara...</td>\n",
       "      <td>\\n \\n \\n \\n \\n \\n \\n \\n \\n \\n \\n \\n \\n \\n \\n ...</td>\n",
       "    </tr>\n",
       "    <tr>\n",
       "      <th>8</th>\n",
       "      <td>Adventure</td>\n",
       "      <td>The Aeneid (Oxford World’s Classics): The new ...</td>\n",
       "      <td>The-Aeneid-Oxford-Worlds-Classics-PDFDrive-.pdf</td>\n",
       "      <td>\\nAeneid\\nThis page intentionally left blank \\...</td>\n",
       "    </tr>\n",
       "    <tr>\n",
       "      <th>9</th>\n",
       "      <td>Novel</td>\n",
       "      <td>Its all right, child, she consoled him. Now te...</td>\n",
       "      <td>One-Hundred-Years-of-Solitude.pdf</td>\n",
       "      <td>\\nONE\\tHUNDRED\\nYEARS\\tOF\\nSOLITUDE\\n\\t\\t\\t\\t\\...</td>\n",
       "    </tr>\n",
       "    <tr>\n",
       "      <th>10</th>\n",
       "      <td>Religion</td>\n",
       "      <td>The book Secrets of the Secret Place by Bob So...</td>\n",
       "      <td>Secrets-of-the-Secret-Place-Sorge.pdf</td>\n",
       "      <td>\\n\\t\\nBob\\t\\nSorge’s\\n\\tlife\\tproclaims\\tthe\\t...</td>\n",
       "    </tr>\n",
       "    <tr>\n",
       "      <th>11</th>\n",
       "      <td>Religion</td>\n",
       "      <td>Heaven Is for Real describes the events that t...</td>\n",
       "      <td>Heaven-is-for-Real-_-A-Little-Boys-Astounding-...</td>\n",
       "      <td>\\nPRAISE FOR HEAVEN IS FOR REAL\\n“You will be ...</td>\n",
       "    </tr>\n",
       "    <tr>\n",
       "      <th>12</th>\n",
       "      <td>Religion</td>\n",
       "      <td>guided by the example of Christ in the treatme...</td>\n",
       "      <td>The-Kingdom-of-God-Is-Within-You-1.pdf</td>\n",
       "      <td>\\nProject\\tGutenberg’s\\tThe\\tKingdom\\tof\\tGod\\...</td>\n",
       "    </tr>\n",
       "    <tr>\n",
       "      <th>13</th>\n",
       "      <td>Religion</td>\n",
       "      <td>Someone needs to speak the unadulterated truth...</td>\n",
       "      <td>About-the-Holy-Bible.pdf</td>\n",
       "      <td>\\nAbout\\tthe\\tHoly\\tBible\\nby\\tRobert\\tG.\\tIng...</td>\n",
       "    </tr>\n",
       "    <tr>\n",
       "      <th>14</th>\n",
       "      <td>Romance</td>\n",
       "      <td>A conscious marriage is created by bringing in...</td>\n",
       "      <td>Getting-The-Love-You-Want-PDF-Download-Free.pdf</td>\n",
       "      <td>\\n\\n\\nTable\\tof\\tContents\\nTitle\\tPage\\nForewo...</td>\n",
       "    </tr>\n",
       "    <tr>\n",
       "      <th>15</th>\n",
       "      <td>Romance</td>\n",
       "      <td>…uty clung to her father in terror, which beca...</td>\n",
       "      <td>Beauty-and-the-Beast-3.pdf</td>\n",
       "      <td>\\nThe\\tProject\\tGutenberg\\tEBook\\tof\\tBeauty\\t...</td>\n",
       "    </tr>\n",
       "    <tr>\n",
       "      <th>16</th>\n",
       "      <td>Romance</td>\n",
       "      <td>“An incredible tale of love and intrigue that ...</td>\n",
       "      <td>The-After-House.pdf</td>\n",
       "      <td>\\nThe\\tProject\\tGutenberg\\tEBook\\tof\\tThe\\tAft...</td>\n",
       "    </tr>\n",
       "    <tr>\n",
       "      <th>17</th>\n",
       "      <td>Romance</td>\n",
       "      <td>Dr. Gabe Allen is a man of his word when it co...</td>\n",
       "      <td>Healing-Her-Heart.pdf</td>\n",
       "      <td>\\nHealing\\tHer\\tHeart\\nA\\tShort\\tStory\\n\\t\\nby...</td>\n",
       "    </tr>\n",
       "    <tr>\n",
       "      <th>18</th>\n",
       "      <td>Fiction</td>\n",
       "      <td>In this breathtaking ninth book of the Keeper ...</td>\n",
       "      <td>Keeper-Of-The-Lost-Cities-PDFDrive-.pdf</td>\n",
       "      <td>\\n\\n\\nFor Mom and Dad,\\nwho always believed th...</td>\n",
       "    </tr>\n",
       "    <tr>\n",
       "      <th>19</th>\n",
       "      <td>Fiction</td>\n",
       "      <td>Percy Jackson, who is only twelve years old, i...</td>\n",
       "      <td>THE-LIGHTNING-THIEF-Percy-Jackson-and-the-Olym...</td>\n",
       "      <td>1 | Page  \\n  \\n       \\n \\n  \\nTHE LIGHTNING ...</td>\n",
       "    </tr>\n",
       "    <tr>\n",
       "      <th>20</th>\n",
       "      <td>Non-fiction</td>\n",
       "      <td>Rich Dad Poor Dad is Robert Kiyosaki’s autobio...</td>\n",
       "      <td>Rich Dad Poor Dad ( 13streamDrive ).pdf</td>\n",
       "      <td>Robert T. Kiyosaki\\nWhat The Rich Teach Their ...</td>\n",
       "    </tr>\n",
       "  </tbody>\n",
       "</table>\n",
       "</div>"
      ],
      "text/plain": [
       "          genre                                        description   \n",
       "0   Non-fiction  English Phonetics and Phonology is an excellen...  \\\n",
       "1   Non-fiction  The Second Edition of Lobsters: Biology, Manag...   \n",
       "2       Fantasy  Lissa Dragomir is a Moroi princess: a mortal v...   \n",
       "3         Novel  Toni was adamant in her protest, and it persis...   \n",
       "4         Novel  Ruthless. Meticulous. Arrogant. \\nControl is e...   \n",
       "5   Non-fiction  The book Digital Marketing: Strategy, Implemen...   \n",
       "6   Non-fiction  More than 15 million copies of How to Win Frie...   \n",
       "7         Novel  Lilli DeForrest has no idea what to anticipate...   \n",
       "8     Adventure  The Aeneid (Oxford World’s Classics): The new ...   \n",
       "9         Novel  Its all right, child, she consoled him. Now te...   \n",
       "10     Religion  The book Secrets of the Secret Place by Bob So...   \n",
       "11     Religion  Heaven Is for Real describes the events that t...   \n",
       "12     Religion  guided by the example of Christ in the treatme...   \n",
       "13     Religion  Someone needs to speak the unadulterated truth...   \n",
       "14      Romance  A conscious marriage is created by bringing in...   \n",
       "15      Romance  …uty clung to her father in terror, which beca...   \n",
       "16      Romance  “An incredible tale of love and intrigue that ...   \n",
       "17      Romance  Dr. Gabe Allen is a man of his word when it co...   \n",
       "18      Fiction  In this breathtaking ninth book of the Keeper ...   \n",
       "19      Fiction  Percy Jackson, who is only twelve years old, i...   \n",
       "20  Non-fiction  Rich Dad Poor Dad is Robert Kiyosaki’s autobio...   \n",
       "\n",
       "                                             filename   \n",
       "0   English-Phonetics-and-Phonology.-An-Introducti...  \\\n",
       "1   Lobsters_ Biology, Management, Aquaculture & F...   \n",
       "2   Vampire-Academy-Vampire-Academy-Book-1-PDFDriv...   \n",
       "3                         Sweet-Revenge-PDFDrive-.pdf   \n",
       "4                      King-of-Wrath-by-Ana-Huang.pdf   \n",
       "5   Digital Marketing_ Strategy, Implementation an...   \n",
       "6   How-To-Win-Friends-and-Influence-People-PDFDri...   \n",
       "7   Exotica-Seven-Days-of-Kama-Sutra-9-Days-of-Ara...   \n",
       "8     The-Aeneid-Oxford-Worlds-Classics-PDFDrive-.pdf   \n",
       "9                   One-Hundred-Years-of-Solitude.pdf   \n",
       "10              Secrets-of-the-Secret-Place-Sorge.pdf   \n",
       "11  Heaven-is-for-Real-_-A-Little-Boys-Astounding-...   \n",
       "12             The-Kingdom-of-God-Is-Within-You-1.pdf   \n",
       "13                           About-the-Holy-Bible.pdf   \n",
       "14    Getting-The-Love-You-Want-PDF-Download-Free.pdf   \n",
       "15                         Beauty-and-the-Beast-3.pdf   \n",
       "16                                The-After-House.pdf   \n",
       "17                              Healing-Her-Heart.pdf   \n",
       "18            Keeper-Of-The-Lost-Cities-PDFDrive-.pdf   \n",
       "19  THE-LIGHTNING-THIEF-Percy-Jackson-and-the-Olym...   \n",
       "20            Rich Dad Poor Dad ( 13streamDrive ).pdf   \n",
       "\n",
       "                                                 text  \n",
       "0   \\nContents\\nSound Recordings\\nPrefaces to the ...  \n",
       "1   LOBSTERS: BIOLOGY , \\nMANAGEMENT, AQUACULTURE ...  \n",
       "2   \\nTable\\tof\\tContents\\n\\t\\nTitle\\tPage\\nCopyri...  \n",
       "3   \\nSWEET\\tREVENGE\\n\\t\\nAnne\\tMather\\n\\t\\n\\t\\nTh...  \n",
       "4   \\nAna Huang  is a USA Today, Publishers Weekly...  \n",
       "5   \\nDigital Marketing\\nA01_CHAF7611_06_SE_FM.ind...  \n",
       "6   \\nCONTENTS\\nCover\\nAbout\\tthe\\tAuthor\\nAlso\\tb...  \n",
       "7    \\n \\n \\n \\n \\n \\n \\n \\n \\n \\n \\n \\n \\n \\n \\n ...  \n",
       "8   \\nAeneid\\nThis page intentionally left blank \\...  \n",
       "9   \\nONE\\tHUNDRED\\nYEARS\\tOF\\nSOLITUDE\\n\\t\\t\\t\\t\\...  \n",
       "10  \\n\\t\\nBob\\t\\nSorge’s\\n\\tlife\\tproclaims\\tthe\\t...  \n",
       "11  \\nPRAISE FOR HEAVEN IS FOR REAL\\n“You will be ...  \n",
       "12  \\nProject\\tGutenberg’s\\tThe\\tKingdom\\tof\\tGod\\...  \n",
       "13  \\nAbout\\tthe\\tHoly\\tBible\\nby\\tRobert\\tG.\\tIng...  \n",
       "14  \\n\\n\\nTable\\tof\\tContents\\nTitle\\tPage\\nForewo...  \n",
       "15  \\nThe\\tProject\\tGutenberg\\tEBook\\tof\\tBeauty\\t...  \n",
       "16  \\nThe\\tProject\\tGutenberg\\tEBook\\tof\\tThe\\tAft...  \n",
       "17  \\nHealing\\tHer\\tHeart\\nA\\tShort\\tStory\\n\\t\\nby...  \n",
       "18  \\n\\n\\nFor Mom and Dad,\\nwho always believed th...  \n",
       "19  1 | Page  \\n  \\n       \\n \\n  \\nTHE LIGHTNING ...  \n",
       "20  Robert T. Kiyosaki\\nWhat The Rich Teach Their ...  "
      ]
     },
     "execution_count": 10,
     "metadata": {},
     "output_type": "execute_result"
    }
   ],
   "source": [
    "# save the dataset to a file\n",
    "df = pd.DataFrame.from_dict(data)\n",
    "df.to_csv(\"books_dataset.csv\", index=False)\n",
    "df"
   ]
  },
  {
   "cell_type": "markdown",
   "id": "b28afa00",
   "metadata": {},
   "source": [
    "#### Clear the text"
   ]
  },
  {
   "cell_type": "code",
   "execution_count": 16,
   "id": "b4a14ddc",
   "metadata": {},
   "outputs": [],
   "source": [
    "def preprocess_text(row_text): \n",
    "    text = row_text.lower()\n",
    "    text = re.sub(\"[^a-zA-Z]\", \" \", text)  # leave only alphabetic characters\n",
    "    \n",
    "    # tokenize into words\n",
    "    words = word_tokenize(text)\n",
    "\n",
    "    # remove stop words\n",
    "    words = [word for word in words if word not in stopwords.words(\"english\")]\n",
    "    \n",
    "    lemmatizer = nltk.WordNetLemmatizer()\n",
    "    lemmatized_words = [lemmatizer.lemmatize(word) for word in words if len(lemmatizer.lemmatize(word)) > 1] \n",
    "        \n",
    "    return \" \".join(lemmatized_words)"
   ]
  },
  {
   "cell_type": "code",
   "execution_count": 17,
   "id": "f7f2adb4",
   "metadata": {},
   "outputs": [
    {
     "data": {
      "text/plain": [
       "'content sound recording preface first edition preface second edition acknowledgement figure organ speech figure international phonetic alphabet english phonetics consonant airstream articulation place articulation manner articulation stop fricative approximants note exercise english phonetics consonant ii central lateral tap trill secondary articulation affricate aspiration nasal stop note exercise english phonetics vowel primary cardinal vowel rp ga short vowel exercise english phonetics vowel ii rp ga long vowel rp ga diphthong note exercise phonemic principle introduction linguistic knowledge contrast predictability phoneme phoneme allophone context summing note exercise english phoneme english consonant phoneme phonological form morpheme english vow'"
      ]
     },
     "execution_count": 17,
     "metadata": {},
     "output_type": "execute_result"
    }
   ],
   "source": [
    "preprocess_text(df[\"text\"][0][:1000])"
   ]
  },
  {
   "cell_type": "code",
   "execution_count": 18,
   "id": "1401e7b8",
   "metadata": {
    "scrolled": true
   },
   "outputs": [],
   "source": [
    "preprocessed_texts = [preprocess_text(df[\"text\"][i]) for i in range(len(df))]"
   ]
  },
  {
   "cell_type": "markdown",
   "id": "c6e86d24",
   "metadata": {},
   "source": [
    "#### Create the \"Bag of words\" model for separate words"
   ]
  },
  {
   "cell_type": "code",
   "execution_count": 19,
   "id": "2a29b468",
   "metadata": {},
   "outputs": [
    {
     "data": {
      "text/plain": [
       "array([[0.        , 0.        , 0.        , ..., 0.        , 0.        ,\n",
       "        0.        ],\n",
       "       [0.00018882, 0.        , 0.        , ..., 0.00045573, 0.        ,\n",
       "        0.00159507],\n",
       "       [0.        , 0.        , 0.        , ..., 0.        , 0.        ,\n",
       "        0.        ],\n",
       "       ...,\n",
       "       [0.        , 0.        , 0.        , ..., 0.        , 0.        ,\n",
       "        0.        ],\n",
       "       [0.        , 0.00122431, 0.00122431, ..., 0.        , 0.        ,\n",
       "        0.        ],\n",
       "       [0.        , 0.        , 0.        , ..., 0.        , 0.        ,\n",
       "        0.        ]])"
      ]
     },
     "execution_count": 19,
     "metadata": {},
     "output_type": "execute_result"
    }
   ],
   "source": [
    "count = TfidfVectorizer(use_idf=True,     # calculate the \"weight\" of the word (relative frequency of occurrences of the word in the document)\n",
    "                        smooth_idf=False,  \n",
    "                        ngram_range=(1,1),stop_words='english')\n",
    "\n",
    "matrix = count.fit_transform(preprocessed_texts).toarray()\n",
    "matrix"
   ]
  },
  {
   "cell_type": "code",
   "execution_count": 20,
   "id": "a40560c5",
   "metadata": {},
   "outputs": [
    {
     "data": {
      "text/plain": [
       "(21, 50160)"
      ]
     },
     "execution_count": 20,
     "metadata": {},
     "output_type": "execute_result"
    }
   ],
   "source": [
    "matrix.shape"
   ]
  },
  {
   "cell_type": "markdown",
   "id": "f61b1a17",
   "metadata": {},
   "source": [
    "#### Сompare the Euclidean distances between the selected book and others"
   ]
  },
  {
   "cell_type": "code",
   "execution_count": 29,
   "id": "8b7df89f",
   "metadata": {},
   "outputs": [
    {
     "name": "stdout",
     "output_type": "stream",
     "text": [
      "Randomly chose the book number 6\n"
     ]
    },
    {
     "data": {
      "text/plain": [
       "array([[1.38506707],\n",
       "       [1.35947227],\n",
       "       [1.39137737],\n",
       "       [1.40578048],\n",
       "       [1.37201102],\n",
       "       [0.        ],\n",
       "       [1.29969291],\n",
       "       [1.38551058],\n",
       "       [1.38831708],\n",
       "       [1.39396315],\n",
       "       [1.37644894],\n",
       "       [1.39965669],\n",
       "       [1.35400786],\n",
       "       [1.38949753],\n",
       "       [1.33000749],\n",
       "       [1.3678152 ],\n",
       "       [1.38462056],\n",
       "       [1.39265449],\n",
       "       [1.39679159],\n",
       "       [1.3868723 ],\n",
       "       [1.34057669]])"
      ]
     },
     "execution_count": 29,
     "metadata": {},
     "output_type": "execute_result"
    }
   ],
   "source": [
    "book_idx = random.randint(0, len(df) - 1)\n",
    "print(\"Randomly chose the book number\", book_idx + 1)\n",
    "distances = euclidean_distances(np.array(matrix), np.array([matrix[book_idx]]))\n",
    "distances"
   ]
  },
  {
   "cell_type": "code",
   "execution_count": 30,
   "id": "6fb61d1b",
   "metadata": {},
   "outputs": [
    {
     "name": "stdout",
     "output_type": "stream",
     "text": [
      "MY BOOK: Digital Marketing_ Strategy, Implementation and practice ( PDFDrive ).pdf\n",
      "GENRE: Non-fiction\n",
      "DESCRIPTION:\n",
      "The book Digital Marketing: Strategy, Implementation, and Practice, which is now in its sixth edition, gives thorough and useful advice to businesses on how they can fulfill their marketing objectives by making the most of the opportunities presented by digital media and technology. \n",
      "Students will gain a better understanding of how digital marketing functions in the real world by participating in case studies and interviews with representatives from forward-thinking companies like eBay and Facebook, which are covered in the course Digital Marketing, which brings together the theory and practice of marketing with actual business experience.\n",
      "-----------------------------------------------------------------------------------\n",
      "\n",
      "\n",
      "                                     SIMILAR BOOKS\n",
      "BOOK: How-To-Win-Friends-and-Influence-People-PDFDrive-1.pdf\n",
      "GENRE: Non-fiction\n",
      "DESCRIPTION:\n",
      "More than 15 million copies of How to Win Friends and Influence People have been sold since the book’s initial publication in 1936. The first book published by Dale Carnegie is an all-time best-seller packed with rock-solid wisdom that has helped thousands of people climb the ladder of success in their personal and professional lives. \n",
      " The teachings of Dale Carnegie are timeless and will assist you in reaching your full potential in this complex and cutthroat era. They are as relevant today as they were when Carnegie first published them.\n",
      "\n",
      "\n",
      "\n",
      "BOOK: Getting-The-Love-You-Want-PDF-Download-Free.pdf\n",
      "GENRE: Romance\n",
      "DESCRIPTION:\n",
      "A conscious marriage is created by bringing into awareness the unconscious directives and purposes of a romantic or love marriage. Love marriage is defined as a voluntary union of two individuals based upon a romantic attraction that is stirred by unconscious needs that have their roots in unresolved childhood issues.\n",
      "Love marriages have existed throughout history, but they have not been the dominant cultural form of marriage until the latter part of the nineteenth century, and then largely in the Western world.\n",
      "\n",
      "\n",
      "\n",
      "BOOK: Rich Dad Poor Dad ( 13streamDrive ).pdf\n",
      "GENRE: Non-fiction\n",
      "DESCRIPTION:\n",
      "Rich Dad Poor Dad is Robert Kiyosaki’s autobiography about his upbringing with two fathers — his biological father and the father of his best friend, whom he refers to as his “rich dad” — and the ways in which the perspectives of both fathers influenced Robert’s perspectives on financial matters and the stock market. This book debunks the notion that one must have a significant income in order to become wealthy. It also clarifies the distinction between working for money and allowing your money to work for you.\n",
      "\n",
      "\n",
      "\n",
      "BOOK: The-Kingdom-of-God-Is-Within-You-1.pdf\n",
      "GENRE: Religion\n",
      "DESCRIPTION:\n",
      "guided by the example of Christ in the treatment of enemies; therefore they cannot be agreeable to the will of God, and therefore their overthrow by a spiritual regeneration of their subjects is inevitable.\n",
      "“We regard as unchristian and unlawful not only all wars, whether offensive or defensive, but all preparations for war; every naval ship, every arsenal, every fortification, we regard as unchristian and unlawful; the existence of any kind of standing army, all military chieftains, all monuments commemorative of victory over a fallen foe, all trophies won in battle, all celebrations in honor of military exploits, all appropriations for defense by arms; we regard as unchristian and unlawful every edict of government requiring of its subjects military service.\n",
      "\n",
      "\n",
      "\n",
      "BOOK: Lobsters_ Biology, Management, Aquaculture & Fisheries ( PDFDrive ).pdf\n",
      "GENRE: Non-fiction\n",
      "DESCRIPTION:\n",
      "The Second Edition of Lobsters: Biology, Management, Fisheries, and Aquaculture, which Bruce Phillips is editing, delivers exhaustive coverage of these fascinating creatures, stretching from growth and development to management and conservation. The book is being published under Lobsters: Biology, Management, Fisheries, and Aquaculture. Several chapters included in the First Edition and covered topics such as Growth, Reproduction, Diseases, Behaviour, Nutrition, Larval and Post-Larval Ecology, and Juvenile and Adult Ecology have been removed and replaced with new chapters.\n",
      "\n",
      "\n",
      "\n"
     ]
    }
   ],
   "source": [
    "pd.set_option('display.max_colwidth', None)  # шоб виводило текст повністю\n",
    "\n",
    "print(\"MY BOOK: \" + df[\"filename\"][book_idx])\n",
    "print(\"GENRE: \" + df[\"genre\"][book_idx])\n",
    "print(\"DESCRIPTION:\")\n",
    "print(df[\"description\"][book_idx])\n",
    "print(\"-----------------------------------------------------------------------------------\\n\\n\")\n",
    "print(\"                                     SIMILAR BOOKS\")\n",
    "\n",
    "idxs = np.argsort(distances, axis=0)[1:6]  # the first book will be the same\n",
    "for i in idxs:\n",
    "    print(\"BOOK: \" + list(df[\"filename\"][i])[0]) \n",
    "    print(\"GENRE: \" + list(df[\"genre\"][i])[0])\n",
    "    print(\"DESCRIPTION:\")\n",
    "    print(list(df[\"description\"][i])[0])\n",
    "    print(\"\\n\\n\")"
   ]
  },
  {
   "cell_type": "markdown",
   "id": "ed5cea6a",
   "metadata": {},
   "source": [
    "#### Create the \"Bag of words\" model for bigrams"
   ]
  },
  {
   "cell_type": "code",
   "execution_count": 31,
   "id": "0cdc6bf6",
   "metadata": {},
   "outputs": [
    {
     "data": {
      "text/plain": [
       "(21, 725984)"
      ]
     },
     "execution_count": 31,
     "metadata": {},
     "output_type": "execute_result"
    }
   ],
   "source": [
    "count2 = TfidfVectorizer(use_idf=True, \n",
    "                        smooth_idf=False,  \n",
    "                        ngram_range=(2,2), stop_words='english') \n",
    "\n",
    "matrix2 = count2.fit_transform(preprocessed_texts).toarray()\n",
    "matrix2.shape"
   ]
  },
  {
   "cell_type": "code",
   "execution_count": 32,
   "id": "be7794a1",
   "metadata": {},
   "outputs": [
    {
     "data": {
      "text/plain": [
       "array([[1.41261686e+00],\n",
       "       [1.38197851e+00],\n",
       "       [1.41333554e+00],\n",
       "       [1.41388509e+00],\n",
       "       [1.41122832e+00],\n",
       "       [5.27467430e-07],\n",
       "       [1.41120465e+00],\n",
       "       [1.41323048e+00],\n",
       "       [1.41350674e+00],\n",
       "       [1.41381660e+00],\n",
       "       [1.41348616e+00],\n",
       "       [1.41330165e+00],\n",
       "       [1.41262222e+00],\n",
       "       [1.41402424e+00],\n",
       "       [1.41103387e+00],\n",
       "       [1.41286109e+00],\n",
       "       [1.41353653e+00],\n",
       "       [1.41371372e+00],\n",
       "       [1.41297565e+00],\n",
       "       [1.41328801e+00],\n",
       "       [1.41186962e+00]])"
      ]
     },
     "execution_count": 32,
     "metadata": {},
     "output_type": "execute_result"
    }
   ],
   "source": [
    "distances = euclidean_distances(np.array(matrix2), np.array([matrix2[book_idx]]))\n",
    "distances"
   ]
  },
  {
   "cell_type": "code",
   "execution_count": 33,
   "id": "3ac6c18a",
   "metadata": {},
   "outputs": [
    {
     "name": "stdout",
     "output_type": "stream",
     "text": [
      "MY BOOK: Digital Marketing_ Strategy, Implementation and practice ( PDFDrive ).pdf\n",
      "GENRE: Non-fiction\n",
      "DESCRIPTION:\n",
      "The book Digital Marketing: Strategy, Implementation, and Practice, which is now in its sixth edition, gives thorough and useful advice to businesses on how they can fulfill their marketing objectives by making the most of the opportunities presented by digital media and technology. \n",
      "Students will gain a better understanding of how digital marketing functions in the real world by participating in case studies and interviews with representatives from forward-thinking companies like eBay and Facebook, which are covered in the course Digital Marketing, which brings together the theory and practice of marketing with actual business experience.\n",
      "-----------------------------------------------------------------------------------\n",
      "\n",
      "\n",
      "                                     SIMILAR BOOKS\n",
      "BOOK: Lobsters_ Biology, Management, Aquaculture & Fisheries ( PDFDrive ).pdf\n",
      "GENRE: Non-fiction\n",
      "DESCRIPTION:\n",
      "The Second Edition of Lobsters: Biology, Management, Fisheries, and Aquaculture, which Bruce Phillips is editing, delivers exhaustive coverage of these fascinating creatures, stretching from growth and development to management and conservation. The book is being published under Lobsters: Biology, Management, Fisheries, and Aquaculture. Several chapters included in the First Edition and covered topics such as Growth, Reproduction, Diseases, Behaviour, Nutrition, Larval and Post-Larval Ecology, and Juvenile and Adult Ecology have been removed and replaced with new chapters.\n",
      "\n",
      "\n",
      "\n",
      "BOOK: Getting-The-Love-You-Want-PDF-Download-Free.pdf\n",
      "GENRE: Romance\n",
      "DESCRIPTION:\n",
      "A conscious marriage is created by bringing into awareness the unconscious directives and purposes of a romantic or love marriage. Love marriage is defined as a voluntary union of two individuals based upon a romantic attraction that is stirred by unconscious needs that have their roots in unresolved childhood issues.\n",
      "Love marriages have existed throughout history, but they have not been the dominant cultural form of marriage until the latter part of the nineteenth century, and then largely in the Western world.\n",
      "\n",
      "\n",
      "\n",
      "BOOK: How-To-Win-Friends-and-Influence-People-PDFDrive-1.pdf\n",
      "GENRE: Non-fiction\n",
      "DESCRIPTION:\n",
      "More than 15 million copies of How to Win Friends and Influence People have been sold since the book’s initial publication in 1936. The first book published by Dale Carnegie is an all-time best-seller packed with rock-solid wisdom that has helped thousands of people climb the ladder of success in their personal and professional lives. \n",
      " The teachings of Dale Carnegie are timeless and will assist you in reaching your full potential in this complex and cutthroat era. They are as relevant today as they were when Carnegie first published them.\n",
      "\n",
      "\n",
      "\n",
      "BOOK: King-of-Wrath-by-Ana-Huang.pdf\n",
      "GENRE: Novel\n",
      "DESCRIPTION:\n",
      "Ruthless. Meticulous. Arrogant. \n",
      "Control is essential to Dante Russo’s happiness, both in his personal and professional life. \n",
      "The prospect of blackmail compels the rich CEO to enter into an engagement with a woman he knows very little about, despite the fact that he had no intention of ever getting married.\n",
      "\n",
      "\n",
      "\n",
      "BOOK: Rich Dad Poor Dad ( 13streamDrive ).pdf\n",
      "GENRE: Non-fiction\n",
      "DESCRIPTION:\n",
      "Rich Dad Poor Dad is Robert Kiyosaki’s autobiography about his upbringing with two fathers — his biological father and the father of his best friend, whom he refers to as his “rich dad” — and the ways in which the perspectives of both fathers influenced Robert’s perspectives on financial matters and the stock market. This book debunks the notion that one must have a significant income in order to become wealthy. It also clarifies the distinction between working for money and allowing your money to work for you.\n",
      "\n",
      "\n",
      "\n"
     ]
    }
   ],
   "source": [
    "print(\"MY BOOK: \" + df[\"filename\"][book_idx])\n",
    "print(\"GENRE: \" + df[\"genre\"][book_idx])\n",
    "print(\"DESCRIPTION:\")\n",
    "print(df[\"description\"][book_idx])\n",
    "print(\"-----------------------------------------------------------------------------------\\n\\n\")\n",
    "print(\"                                     SIMILAR BOOKS\")\n",
    "\n",
    "idxs = np.argsort(distances, axis=0)[1:6] \n",
    "for i in idxs:\n",
    "    print(\"BOOK: \" + list(df[\"filename\"][i])[0]) \n",
    "    print(\"GENRE: \" + list(df[\"genre\"][i])[0])\n",
    "    print(\"DESCRIPTION:\")\n",
    "    print(list(df[\"description\"][i])[0])\n",
    "    print(\"\\n\\n\")"
   ]
  },
  {
   "cell_type": "code",
   "execution_count": null,
   "id": "b3dd528f",
   "metadata": {},
   "outputs": [],
   "source": []
  }
 ],
 "metadata": {
  "kernelspec": {
   "display_name": "Python 3 (ipykernel)",
   "language": "python",
   "name": "python3"
  },
  "language_info": {
   "codemirror_mode": {
    "name": "ipython",
    "version": 3
   },
   "file_extension": ".py",
   "mimetype": "text/x-python",
   "name": "python",
   "nbconvert_exporter": "python",
   "pygments_lexer": "ipython3",
   "version": "3.9.13"
  }
 },
 "nbformat": 4,
 "nbformat_minor": 5
}
